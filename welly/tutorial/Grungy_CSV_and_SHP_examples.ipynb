{
 "cells": [
  {
   "cell_type": "markdown",
   "metadata": {},
   "source": [
    "## Wells from CSV, and to SHP\n",
    "\n",
    "Some preliminaries..."
   ]
  },
  {
   "cell_type": "code",
   "execution_count": 1,
   "metadata": {},
   "outputs": [
    {
     "data": {
      "text/plain": [
       "'0.3.3'"
      ]
     },
     "execution_count": 1,
     "metadata": {},
     "output_type": "execute_result"
    }
   ],
   "source": [
    "import numpy as np\n",
    "import matplotlib.pyplot as plt\n",
    "%matplotlib inline\n",
    "import welly\n",
    "welly.__version__"
   ]
  },
  {
   "cell_type": "code",
   "execution_count": 2,
   "metadata": {},
   "outputs": [],
   "source": [
    "import os\n",
    "env = %env"
   ]
  },
  {
   "cell_type": "markdown",
   "metadata": {},
   "source": [
    "## Load wells from CSV\n",
    "\n",
    "This does not do a lot yet. This is the first step in trying to make a CSV constructor.\n",
    "\n",
    "It may not be possible to generalize this in a sensible way."
   ]
  },
  {
   "cell_type": "code",
   "execution_count": 3,
   "metadata": {},
   "outputs": [],
   "source": [
    "import csv\n",
    "fname = env['HOME'] + '/Dropbox/dev/recipes/data/Nova_Scotia_wells_2015.csv'\n",
    "reader = csv.DictReader(open(fname))\n",
    "\n",
    "wells = []\n",
    "\n",
    "for line in reader:\n",
    "    params = {'header': {},\n",
    "              'location': {},\n",
    "             }\n",
    "    \n",
    "    for key, value in line.items():\n",
    "        sect, item = key.split('.')\n",
    "        params[sect][item] = value\n",
    "        \n",
    "    # Deal with surface location nonsense.\n",
    "    \n",
    "    # First the numerics.\n",
    "    try:\n",
    "        lat = float(params['location'].get('latitude'))\n",
    "        lon = float(params['location'].get('longitude'))\n",
    "    except:\n",
    "        lat, lon = 0, 0\n",
    "        \n",
    "    try:\n",
    "        x = float(params['location'].get('x'))\n",
    "        y = float(params['location'].get('y'))\n",
    "    except:\n",
    "        x, y = 0, 0\n",
    "\n",
    "    # Then the strings.\n",
    "    datum = params['location'].get('datum')  # Empty string if missing\n",
    "    utm = params['location'].get('datum')    # Empty string if missing\n",
    "    \n",
    "    # STRICT RULES\n",
    "    # Either a well location has what it needs, or it doesn't. \n",
    "    \n",
    "#     # If we have (lat, lon) then chuck everything else out.\n",
    "#     if lat and lon:\n",
    "#         del params['location']['x']\n",
    "#         del params['location']['y']\n",
    "#         del params['location']['utm']\n",
    "#         if not datum:\n",
    "#             del params['location']['latitude']\n",
    "#             del params['location']['longitude']\n",
    "            \n",
    "#     # Otherwise, keep fully qualified (x, y)s\n",
    "#     else:\n",
    "#         del params['location']['latitude']\n",
    "#         del params['location']['longitude']\n",
    "#         if (not x and y) or (not datum) or (not utm):\n",
    "#             del params['location']['x']\n",
    "#             del params['location']['y']\n",
    "#             del params['location']['datum']\n",
    "#             del params['location']['utm']\n",
    "\n",
    "    # Build the well and add it to the list.\n",
    "    h = welly.Header(params['header'])\n",
    "    l = welly.Location(params['location'])\n",
    "    w = welly.Well({'header': h, 'location': l})\n",
    "    wells.append(w)"
   ]
  },
  {
   "cell_type": "markdown",
   "metadata": {},
   "source": [
    "Get the index of the well P-129 in this list:"
   ]
  },
  {
   "cell_type": "code",
   "execution_count": 4,
   "metadata": {},
   "outputs": [
    {
     "data": {
      "text/plain": [
       "10"
      ]
     },
     "execution_count": 4,
     "metadata": {},
     "output_type": "execute_result"
    }
   ],
   "source": [
    "[w.header.license for w in wells].index('P-129')"
   ]
  },
  {
   "cell_type": "markdown",
   "metadata": {},
   "source": [
    "Add curves to this well:"
   ]
  },
  {
   "cell_type": "code",
   "execution_count": 5,
   "metadata": {},
   "outputs": [],
   "source": [
    "wells[10].add_curves_from_las('../../recipes/data/las/P-129_out.LAS')"
   ]
  },
  {
   "cell_type": "markdown",
   "metadata": {},
   "source": [
    "Add a CRS:"
   ]
  },
  {
   "cell_type": "code",
   "execution_count": 6,
   "metadata": {},
   "outputs": [],
   "source": [
    "wells[10].location.crs_from_epsg(4269)  # NAD83"
   ]
  },
  {
   "cell_type": "code",
   "execution_count": 7,
   "metadata": {},
   "outputs": [
    {
     "data": {
      "text/plain": [
       "CRS({'init': 'epsg:4269', 'no_defs': True})"
      ]
     },
     "execution_count": 7,
     "metadata": {},
     "output_type": "execute_result"
    }
   ],
   "source": [
    "wells[10].location.crs"
   ]
  },
  {
   "cell_type": "markdown",
   "metadata": {},
   "source": [
    "Check everything:"
   ]
  },
  {
   "cell_type": "code",
   "execution_count": 8,
   "metadata": {},
   "outputs": [
    {
     "data": {
      "text/html": [
       "<table><tr><th style=\"text-align:center;\" colspan=\"2\">Kennetcook #2<br><small></small></th></tr><tr><td><strong>td</strong></td><td>1935.0</td></tr><tr><td><strong>crs</strong></td><td>CRS({'init': 'epsg:4269', 'no_defs': True})</td></tr><tr><td><strong>basin</strong></td><td>Windsor Basin</td></tr><tr><td><strong>gl</strong></td><td>90.3</td></tr><tr><td><strong>kb</strong></td><td>94.8</td></tr><tr><td><strong>latitude</strong></td><td>45.20951028</td></tr><tr><td><strong>longitude</strong></td><td>63.75679444</td></tr><tr><td><strong>data</strong></td><td>CALI, DEPT, DPHI_DOL, DPHI_LIM, DPHI_SAN, DRHO, DT, DTS, GR, HCAL, NPHI_DOL, NPHI_LIM, NPHI_SAN, PEF, RHOB, RLA1, RLA2, RLA3, RLA4, RLA5, RM_HRLT, RT_HRLT, RXOZ, RXO_HRLT, SP</td></tr></table>"
      ],
      "text/plain": [
       "<welly.well.Well at 0x1130e44a8>"
      ]
     },
     "execution_count": 8,
     "metadata": {},
     "output_type": "execute_result"
    }
   ],
   "source": [
    "wells[10]"
   ]
  },
  {
   "cell_type": "markdown",
   "metadata": {},
   "source": [
    "## Save well to SHP\n",
    "\n",
    "We'll make a loop to do many wells, but we only have proper info for one:"
   ]
  },
  {
   "cell_type": "code",
   "execution_count": 9,
   "metadata": {},
   "outputs": [],
   "source": [
    "wells_to_export = wells[:20]  # Most of these will fail."
   ]
  },
  {
   "cell_type": "code",
   "execution_count": 10,
   "metadata": {},
   "outputs": [],
   "source": [
    "my_crs = wells[10].location.crs.data  # Most of these will fail."
   ]
  },
  {
   "cell_type": "code",
   "execution_count": 11,
   "metadata": {},
   "outputs": [
    {
     "ename": "ModuleNotFoundError",
     "evalue": "No module named 'fiona'",
     "output_type": "error",
     "traceback": [
      "\u001b[0;31m---------------------------------------------------------------------------\u001b[0m",
      "\u001b[0;31mModuleNotFoundError\u001b[0m                       Traceback (most recent call last)",
      "\u001b[0;32m<ipython-input-11-a7e51a270f45>\u001b[0m in \u001b[0;36m<module>\u001b[0;34m()\u001b[0m\n\u001b[0;32m----> 1\u001b[0;31m \u001b[0;32mimport\u001b[0m \u001b[0mfiona\u001b[0m\u001b[0;34m\u001b[0m\u001b[0m\n\u001b[0m\u001b[1;32m      2\u001b[0m \u001b[0;32mfrom\u001b[0m \u001b[0mfiona\u001b[0m \u001b[0;32mimport\u001b[0m \u001b[0mcrs\u001b[0m\u001b[0;34m\u001b[0m\u001b[0m\n\u001b[1;32m      3\u001b[0m \u001b[0;32mfrom\u001b[0m \u001b[0mshapely\u001b[0m\u001b[0;34m.\u001b[0m\u001b[0mgeometry\u001b[0m \u001b[0;32mimport\u001b[0m \u001b[0mPoint\u001b[0m\u001b[0;34m,\u001b[0m \u001b[0mLineString\u001b[0m\u001b[0;34m,\u001b[0m \u001b[0mmapping\u001b[0m\u001b[0;34m\u001b[0m\u001b[0m\n\u001b[1;32m      4\u001b[0m \u001b[0;34m\u001b[0m\u001b[0m\n\u001b[1;32m      5\u001b[0m point_schema = {'geometry': 'Point',\n",
      "\u001b[0;31mModuleNotFoundError\u001b[0m: No module named 'fiona'"
     ]
    }
   ],
   "source": [
    "import fiona\n",
    "from fiona import crs\n",
    "from shapely.geometry import Point, LineString, mapping\n",
    "\n",
    "point_schema = {'geometry': 'Point',\n",
    "                'properties': {'name': 'str',\n",
    "                               'uwi': 'str',\n",
    "                               'td': 'int',\n",
    "                               'gr': 'float'\n",
    "                               }\n",
    "                }\n",
    "\n",
    "fname = 'well.shp'\n",
    "\n",
    "with fiona.open(fname, \"w\",\n",
    "                driver=\"ESRI Shapefile\",\n",
    "                crs=my_crs,\n",
    "                schema=point_schema) as f:\n",
    "\n",
    "    count = 0\n",
    "    for w in wells_to_export:\n",
    "        try:\n",
    "            p = Point(w.location.latitude, w.location.longitude)\n",
    "            f.write({'geometry': mapping(p),\n",
    "                     'properties': {'name': w.header.name,\n",
    "                                    'uwi': w.uwi,\n",
    "                                    'td': w.location.td,\n",
    "                                    'gr': float(w.data['GR'].mean())\n",
    "                                   }\n",
    "                     })\n",
    "            count += 1\n",
    "        except:\n",
    "            pass\n",
    "print('Exported {} well(s)'.format(count))"
   ]
  },
  {
   "cell_type": "markdown",
   "metadata": {},
   "source": [
    "Check it:"
   ]
  },
  {
   "cell_type": "code",
   "execution_count": 13,
   "metadata": {},
   "outputs": [
    {
     "name": "stdout",
     "output_type": "stream",
     "text": [
      "{'geometry': {'coordinates': (45.20951028, 63.75679444), 'type': 'Point'},\n",
      " 'id': '0',\n",
      " 'properties': {'gr': 78.9863535887685,\n",
      "                'td': 1935,\n",
      "                'uwi': None,\n",
      "                'name': 'Kennetcook #2'},\n",
      " 'type': 'Feature'}\n"
     ]
    }
   ],
   "source": [
    "import pprint\n",
    "with fiona.open(fname, \"r\", driver=\"ESRI Shapefile\") as c:\n",
    "    for i in c:\n",
    "        pprint.pprint(i)"
   ]
  },
  {
   "cell_type": "code",
   "execution_count": null,
   "metadata": {
    "collapsed": true
   },
   "outputs": [],
   "source": []
  }
 ],
 "metadata": {
  "kernelspec": {
   "display_name": "Python [default]",
   "language": "python",
   "name": "python3"
  },
  "language_info": {
   "codemirror_mode": {
    "name": "ipython",
    "version": 3
   },
   "file_extension": ".py",
   "mimetype": "text/x-python",
   "name": "python",
   "nbconvert_exporter": "python",
   "pygments_lexer": "ipython3",
   "version": "3.6.3"
  }
 },
 "nbformat": 4,
 "nbformat_minor": 1
}
