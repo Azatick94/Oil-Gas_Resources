{
 "cells": [
  {
   "cell_type": "code",
   "execution_count": 1,
   "metadata": {
    "collapsed": true
   },
   "outputs": [],
   "source": [
    "import requests, bs4, urllib, re, time, os, wget\n",
    "import numpy as np\n",
    "from semantic.numbers import NumberService\n",
    "import pandas as pd"
   ]
  },
  {
   "cell_type": "code",
   "execution_count": 2,
   "metadata": {
    "collapsed": true
   },
   "outputs": [],
   "source": [
    "'''\n",
    "to start you need to save your query from the COGCC website to a local drive.\n",
    "Once you have saved it you need to direct the lines below to that path.\n",
    "It will open that html file and parse out the well API numbers and create a list of links to download them \n",
    "'''\n",
    "wells=urllib.urlopen(\"file:///wherever you saved livequery.html\").read()\n",
    "linked=[]\n",
    "links=[]\n",
    "soup=bs4.BeautifulSoup(wells, \"lxml\")\n",
    "for link in soup.find_all('a'):\n",
    "    links.append(link.get('href'))\n",
    "for i in range(0,len(links),2):\n",
    "    linked.append(links[i])\n",
    "number_of_wells=len(linked)"
   ]
  },
  {
   "cell_type": "code",
   "execution_count": 3,
   "metadata": {
    "collapsed": false
   },
   "outputs": [
    {
     "data": {
      "text/plain": [
       "884"
      ]
     },
     "execution_count": 3,
     "metadata": {},
     "output_type": "execute_result"
    }
   ],
   "source": [
    "directional_link=[]\n",
    "las_link=[]\n",
    "well_id_list=[]\n",
    "fail=[]\n",
    "for k in range(number_of_wells):\n",
    "    well_id=re.findall(r'\\d+',linked[k]) #pulls well API number from the well index\n",
    "    response1 = requests.get('http://cogcc.state.co.us/weblink/results.aspx?id='+str(well_id[0])) #scrapes the individual well docs page\n",
    "    soup2=bs4.BeautifulSoup(response1.text, \"lxml\")\n",
    "    searching=soup2.find_all('tr') #selects the rows from the scraped data\n",
    "    try:\n",
    "        well_page = [t for t in searching if t.findAll(text=re.compile('DIRECTIONAL DATA'))] #selects and assigns the data in the directional row\n",
    "        well_page_las = [t for t in searching if t.findAll(text=re.compile('LAS'))] #selects and assigns the data in the LAS row\n",
    "        las_link.append(well_page_las[0].find_all('a')[2].get('href')) #chooses the link for the LAS logging while drilling\n",
    "        directional_link.append(well_page[1].find_all('a')[2].get('href')) #chooses the link for the directional data\n",
    "        well_id_list.append(well_id[0])\n",
    "        \n",
    "    except:\n",
    "        fail.append(k)\n",
    "        pass\n",
    "    time.sleep(5)\n",
    "print str((1-(max(fail)/float(number_of_wells)))*100)+'% of the requested wells were sucessfully added to the list'\n"
   ]
  },
  {
   "cell_type": "code",
   "execution_count": null,
   "metadata": {
    "collapsed": true
   },
   "outputs": [],
   "source": [
    "#below you need to set a path to where you want all the logs saved, in this case we make new folders inside the well logs folder\n",
    "for well in well_id_list:\n",
    "    newpath = ((r'creates path to .../well logs/%s') % (well)) \n",
    "    if not os.path.exists(newpath): os.makedirs(newpath) #makes folders named with the well api missing 50 on the front"
   ]
  },
  {
   "cell_type": "code",
   "execution_count": null,
   "metadata": {
    "collapsed": true
   },
   "outputs": [],
   "source": [
    "for l in range(len(well_id_list)):\n",
    "    wget.download('http://cogcc.state.co.us/weblink/'+str(directional_link[l]),\n",
    "              out='path to .../well logs/'+str(well_id_list[l]))\n",
    "    wget.download('http://cogcc.state.co.us/weblink/'+str(las_link[l]),\n",
    "              out='path to .../well logs/'+str(well_id_list[l]))\n",
    "    time.sleep(10) #do not change this line or you'll get banned"
   ]
  }
 ],
 "metadata": {
  "anaconda-cloud": {},
  "kernelspec": {
   "display_name": "Python [conda root]",
   "language": "python",
   "name": "conda-root-py"
  },
  "language_info": {
   "codemirror_mode": {
    "name": "ipython",
    "version": 2
   },
   "file_extension": ".py",
   "mimetype": "text/x-python",
   "name": "python",
   "nbconvert_exporter": "python",
   "pygments_lexer": "ipython2",
   "version": "2.7.12"
  }
 },
 "nbformat": 4,
 "nbformat_minor": 2
}
